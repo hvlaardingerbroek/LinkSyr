{
 "cells": [
  {
   "cell_type": "code",
   "execution_count": 1,
   "metadata": {},
   "outputs": [],
   "source": [
    "# import stuff\n",
    "import syrnt\n",
    "nt=syrnt.SyrNT()\n",
    "\n",
    "import morphan\n",
    "ma=morphan.MorphAn()"
   ]
  },
  {
   "cell_type": "code",
   "execution_count": 2,
   "metadata": {},
   "outputs": [],
   "source": [
    "# print function to display results\n",
    "def print_results(r, c_length):\n",
    "    good_lexemes, good_pos, good_poslex, good_segmentation, good_seglex, good_tags, good_seglextags = r\n",
    "    print('Lexemes recognized:       {:.2f} %'.format((100*(good_lexemes/c_length))))\n",
    "    print('PartofSpeech recognized:  {:.2f} %'.format((100*(good_pos/c_length))))\n",
    "    print('PoS and lexeme recognized:{:.2f} %'.format((100*(good_poslex/c_length))))\n",
    "    print('Segmentation recognized:  {:.2f} %'.format((100*(good_segmentation/c_length))))\n",
    "    print('Lexemes and segmentation: {:.2f} %'.format((100*(good_seglex/c_length))))\n",
    "    print('Tags recognized:          {:.2f} %'.format((100*(good_tags/c_length))))\n",
    "    print('All recognized:           {:.2f} %'.format((100*(good_seglextags/c_length))))"
   ]
  },
  {
   "cell_type": "code",
   "execution_count": 5,
   "metadata": {},
   "outputs": [
    {
     "name": "stdout",
     "output_type": "stream",
     "text": [
      "word 109640 of 109640 (100.00%)\n",
      "\n",
      "Lexemes recognized:       92.30 %\n",
      "PartofSpeech recognized:  91.42 %\n",
      "PoS and lexeme recognized:90.29 %\n",
      "Segmentation recognized:  88.20 %\n",
      "Lexemes and segmentation: 85.84 %\n",
      "Tags recognized:          71.71 %\n",
      "All recognized:           71.11 %\n"
     ]
    }
   ],
   "source": [
    "# test analyzer on training data\n",
    "\n",
    "ma.train(nt)\n",
    "r=ma.test(nt)\n",
    "print_results(r, len(nt))"
   ]
  },
  {
   "cell_type": "code",
   "execution_count": 4,
   "metadata": {},
   "outputs": [
    {
     "name": "stdout",
     "output_type": "stream",
     "text": [
      "Training cycle 0... Done. Analyzing test corpus...\n",
      "word 10964 of 10964 (100.00%)\n",
      "\n",
      "Done: (9991, 9828, 9710, 9458, 9199, 7500, 7412)\n",
      "Training cycle 1... Done. Analyzing test corpus...\n",
      "word 10964 of 10964 (100.00%)\n",
      "\n",
      "Done: (10050, 9941, 9826, 9403, 9198, 7488, 7429)\n",
      "Training cycle 2... Done. Analyzing test corpus...\n",
      "word 10964 of 10964 (100.00%)\n",
      "\n",
      "Done: (9820, 9757, 9618, 9381, 9089, 7434, 7362)\n",
      "Training cycle 3... Done. Analyzing test corpus...\n",
      "word 10964 of 10964 (100.00%)\n",
      "\n",
      "Done: (9976, 9846, 9729, 9542, 9321, 7725, 7647)\n",
      "Training cycle 4... Done. Analyzing test corpus...\n",
      "word 10964 of 10964 (100.00%)\n",
      "\n",
      "Done: (9800, 9781, 9646, 9327, 9066, 7543, 7459)\n",
      "Training cycle 5... Done. Analyzing test corpus...\n",
      "word 10964 of 10964 (100.00%)\n",
      "\n",
      "Done: (9502, 9434, 9346, 8935, 8721, 7272, 7230)\n",
      "Training cycle 6... Done. Analyzing test corpus...\n",
      "word 10964 of 10964 (100.00%)\n",
      "\n",
      "Done: (9732, 9726, 9539, 9445, 9164, 7742, 7673)\n",
      "Training cycle 7... Done. Analyzing test corpus...\n",
      "word 10964 of 10964 (100.00%)\n",
      "\n",
      "Done: (9709, 9738, 9556, 9336, 9004, 7574, 7503)\n",
      "Training cycle 8... Done. Analyzing test corpus...\n",
      "word 10964 of 10964 (100.00%)\n",
      "\n",
      "Done: (9603, 9543, 9383, 9315, 8961, 7333, 7277)\n",
      "Training cycle 9... Done. Analyzing test corpus...\n",
      "word 10964 of 10964 (100.00%)\n",
      "\n",
      "Done: (9646, 9510, 9367, 9285, 8903, 7200, 7171)\n",
      "Lexemes recognized:       89.23 %\n",
      "PartofSpeech recognized:  88.57 %\n",
      "PoS and lexeme recognized:87.30 %\n",
      "Segmentation recognized:  85.21 %\n",
      "Lexemes and segmentation: 82.66 %\n",
      "Tags recognized:          68.23 %\n",
      "All recognized:           67.64 %\n"
     ]
    }
   ],
   "source": [
    "# do ten-fold cross validation test\n",
    "\n",
    "corpus = nt\n",
    "n = 10 # number of tests\n",
    "\n",
    "threshold = len(corpus)//n\n",
    "results = []\n",
    "\n",
    "for i in range(n):\n",
    "    train_corpus = nt[i:i*threshold]+nt[i*threshold+threshold:]\n",
    "    test_corpus = nt[i*threshold:i*threshold+threshold]\n",
    "    print(f'Training cycle {i}... ', end='')\n",
    "    ma.train(train_corpus)\n",
    "    print('Done. Analyzing test corpus...')\n",
    "    r=ma.test(test_corpus)\n",
    "    results.append(r)\n",
    "    print(f'Done: {r}')\n",
    "\n",
    "# calculate sum of results:\n",
    "# https://stackoverflow.com/a/13783363\n",
    "# In [9]: l = [[3,7,2],[1,4,5],[9,8,7]]\n",
    "\n",
    "endresults = [sum(i) for i in zip(*results)]\n",
    "# Out[10]: [13, 19, 14]\n",
    "\n",
    "# good_lexemes, good_pos, good_poslex, good_segmentation, good_seglex, good_tags, good_seglextags\n",
    "\n",
    "print_results(endresults, len(corpus))"
   ]
  }
 ],
 "metadata": {
  "kernelspec": {
   "display_name": "Python 3",
   "language": "python",
   "name": "python3"
  },
  "language_info": {
   "codemirror_mode": {
    "name": "ipython",
    "version": 3
   },
   "file_extension": ".py",
   "mimetype": "text/x-python",
   "name": "python",
   "nbconvert_exporter": "python",
   "pygments_lexer": "ipython3",
   "version": "3.6.3"
  }
 },
 "nbformat": 4,
 "nbformat_minor": 2
}
